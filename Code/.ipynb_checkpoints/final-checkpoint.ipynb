{
 "cells": [
  {
   "cell_type": "code",
   "execution_count": 1,
   "metadata": {
    "colab": {
     "base_uri": "https://localhost:8080/",
     "height": 122
    },
    "colab_type": "code",
    "id": "uNQq13hjIzMd",
    "outputId": "87689632-8567-4e31-ea1f-75479275189f"
   },
   "outputs": [
    {
     "name": "stdout",
     "output_type": "stream",
     "text": [
      "Go to this URL in a browser: https://accounts.google.com/o/oauth2/auth?client_id=947318989803-6bn6qk8qdgf4n4g3pfee6491hc0brc4i.apps.googleusercontent.com&redirect_uri=urn%3Aietf%3Awg%3Aoauth%3A2.0%3Aoob&scope=email%20https%3A%2F%2Fwww.googleapis.com%2Fauth%2Fdocs.test%20https%3A%2F%2Fwww.googleapis.com%2Fauth%2Fdrive%20https%3A%2F%2Fwww.googleapis.com%2Fauth%2Fdrive.photos.readonly%20https%3A%2F%2Fwww.googleapis.com%2Fauth%2Fpeopleapi.readonly&response_type=code\n",
      "\n",
      "Enter your authorization code:\n",
      "··········\n",
      "Mounted at /content/drive\n"
     ]
    }
   ],
   "source": [
    "from google.colab import drive\n",
    "drive.mount('/content/drive')"
   ]
  },
  {
   "cell_type": "code",
   "execution_count": 0,
   "metadata": {
    "colab": {},
    "colab_type": "code",
    "id": "u3TdaLIWJD48"
   },
   "outputs": [],
   "source": [
    "# Importing os to parse directory of containing images\n",
    "import os"
   ]
  },
  {
   "cell_type": "code",
   "execution_count": 0,
   "metadata": {
    "colab": {},
    "colab_type": "code",
    "id": "gYa3icsAJLXd"
   },
   "outputs": [],
   "source": [
    "# Importing Libraries needed\n",
    "import matplotlib.pyplot as plt\n",
    "import numpy as np\n",
    "import pandas as pd"
   ]
  },
  {
   "cell_type": "code",
   "execution_count": 0,
   "metadata": {
    "colab": {},
    "colab_type": "code",
    "id": "qHt-zkJ2LHwj"
   },
   "outputs": [],
   "source": [
    "# Matplotlib image for converting png to numpy array\n",
    "import matplotlib.image as mpimg"
   ]
  },
  {
   "cell_type": "code",
   "execution_count": 0,
   "metadata": {
    "colab": {},
    "colab_type": "code",
    "id": "L7RfaRGDLKdT"
   },
   "outputs": [],
   "source": [
    "# Parsing images for different category from different folders in the google drive\n",
    "c1 = os.listdir('/content/drive/My Drive/Image_2/Input/Dataset/train/category1')\n",
    "c2 = os.listdir('/content/drive/My Drive/Image_2/Input/Dataset/train/category2')\n",
    "c3 = os.listdir('/content/drive/My Drive/Image_2/Input/Dataset/train/category3')\n",
    "c4 = os.listdir('/content/drive/My Drive/Image_2/Input/Dataset/train/category4')"
   ]
  },
  {
   "cell_type": "code",
   "execution_count": 0,
   "metadata": {
    "colab": {},
    "colab_type": "code",
    "id": "aiDoan26LMLD"
   },
   "outputs": [],
   "source": [
    "categories = [c1, c2, c3, c4]"
   ]
  },
  {
   "cell_type": "code",
   "execution_count": 0,
   "metadata": {
    "colab": {},
    "colab_type": "code",
    "id": "6Q_rbtV9La1L"
   },
   "outputs": [],
   "source": [
    "# Variable for storing data\n",
    "X = []\n",
    "y = []"
   ]
  },
  {
   "cell_type": "code",
   "execution_count": 44,
   "metadata": {
    "colab": {
     "base_uri": "https://localhost:8080/",
     "height": 85
    },
    "colab_type": "code",
    "id": "C5UBL3_7Lcvb",
    "outputId": "ea9fb4f6-de2e-4f77-811b-76857c38e0d3"
   },
   "outputs": [
    {
     "name": "stdout",
     "output_type": "stream",
     "text": [
      "Image not found\n",
      "Image not found\n",
      "Image not found\n",
      "Image not found\n"
     ]
    }
   ],
   "source": [
    "# Preprocessing data\n",
    "# Converting the png images to numpy array and converting its dimention (800, 800, 3) to (40, 40)\n",
    "# Reducing dimension of the image make the training of model fast\n",
    "# We also droped the RGB channel to greyscale as the images were greyscale only\n",
    "\n",
    "for i in range(len(categories)):\n",
    "    dirname = '/content/drive/My Drive/Image_2/Input/Dataset/train/category'+str(i+1)+'/'\n",
    "    for e in categories[i]:\n",
    "        try:\n",
    "            img = mpimg.imread(dirname+e)\n",
    "#             X.append(img[:, :, 0].flatten())\n",
    "            newimg = []\n",
    "            for f in range(0, 800, 20):\n",
    "              xx = []\n",
    "              for g in range(0, 800, 20):\n",
    "                xx.append([img[:, :, 0][f][g]])\n",
    "              newimg.append(xx)\n",
    "#             X_train.append(np.asarray(newimg).flatten())\n",
    "            X.append(newimg)\n",
    "            y.append(i)\n",
    "        except OSError:\n",
    "            print(\"Image not found\")"
   ]
  },
  {
   "cell_type": "code",
   "execution_count": 0,
   "metadata": {
    "colab": {},
    "colab_type": "code",
    "id": "0GoUGK2wfhPR"
   },
   "outputs": [],
   "source": [
    "# Converting python list to numpy array for faster computation\n",
    "X = np.asarray(X)\n",
    "y = np.asarray(y)"
   ]
  },
  {
   "cell_type": "code",
   "execution_count": 46,
   "metadata": {
    "colab": {
     "base_uri": "https://localhost:8080/",
     "height": 34
    },
    "colab_type": "code",
    "id": "BKUPQBv0YsNC",
    "outputId": "f67c10e5-2292-482e-ff7c-fb795978d6a7"
   },
   "outputs": [
    {
     "data": {
      "text/plain": [
       "(440, 40, 40, 1)"
      ]
     },
     "execution_count": 46,
     "metadata": {
      "tags": []
     },
     "output_type": "execute_result"
    }
   ],
   "source": [
    "# Checking the shape of the Data\n",
    "X.shape"
   ]
  },
  {
   "cell_type": "code",
   "execution_count": 0,
   "metadata": {
    "colab": {},
    "colab_type": "code",
    "id": "x5oGTvr0YsA2"
   },
   "outputs": [],
   "source": [
    "# Ploting the image using matplotlib for testing only"
   ]
  },
  {
   "cell_type": "code",
   "execution_count": 31,
   "metadata": {
    "colab": {
     "base_uri": "https://localhost:8080/",
     "height": 286
    },
    "colab_type": "code",
    "id": "NNiez4e7Li_r",
    "outputId": "ef51a8a0-0550-42a6-d450-e3aa2b3a9f53"
   },
   "outputs": [
    {
     "data": {
      "image/png": "[encoded data removed]",
      "text/plain": [
       "<Figure size 432x288 with 1 Axes>"
      ]
     },
     "metadata": {
      "tags": []
     },
     "output_type": "display_data"
    },
    {
     "name": "stdout",
     "output_type": "stream",
     "text": [
      "3\n"
     ]
    }
   ],
   "source": [
    "plt.imshow(X[-1].reshape(40, 40))\n",
    "plt.show()\n",
    "print(y[-1])"
   ]
  },
  {
   "cell_type": "code",
   "execution_count": 0,
   "metadata": {
    "colab": {},
    "colab_type": "code",
    "id": "9An3lKHKYeht"
   },
   "outputs": [],
   "source": []
  },
  {
   "cell_type": "code",
   "execution_count": 0,
   "metadata": {
    "colab": {},
    "colab_type": "code",
    "id": "X-jfkpR4RduR"
   },
   "outputs": [],
   "source": [
    "from sklearn.model_selection import train_test_split"
   ]
  },
  {
   "cell_type": "code",
   "execution_count": 0,
   "metadata": {
    "colab": {},
    "colab_type": "code",
    "id": "vttxHu5MRdgC"
   },
   "outputs": [],
   "source": [
    "# Splitting the data into training and testing sets\n",
    "X_train, X_test, y_train, y_test = train_test_split(X, y)"
   ]
  },
  {
   "cell_type": "code",
   "execution_count": 0,
   "metadata": {
    "colab": {},
    "colab_type": "code",
    "id": "ryzCgqK8byP9"
   },
   "outputs": [],
   "source": [
    "from __future__ import absolute_import, division, print_function, unicode_literals"
   ]
  },
  {
   "cell_type": "code",
   "execution_count": 0,
   "metadata": {
    "colab": {},
    "colab_type": "code",
    "id": "DIEyA255flb7"
   },
   "outputs": [],
   "source": [
    "try:\n",
    "  # %tensorflow_version only exists in Colab.\n",
    "  %tensorflow_version 2.x\n",
    "except Exception:\n",
    "  pass\n",
    "import tensorflow as tf\n",
    "\n",
    "from tensorflow.keras import datasets, layers, models"
   ]
  },
  {
   "cell_type": "code",
   "execution_count": 0,
   "metadata": {
    "colab": {},
    "colab_type": "code",
    "id": "MXj2uAFtxbX1"
   },
   "outputs": [],
   "source": [
    "# We will be using keras sequential api for training convolutional neural network (CNN)"
   ]
  },
  {
   "cell_type": "code",
   "execution_count": 0,
   "metadata": {
    "colab": {},
    "colab_type": "code",
    "id": "tzByjNjZfoC5"
   },
   "outputs": [],
   "source": [
    "model = models.Sequential()\n",
    "model.add(layers.Conv2D(32, (3, 3), activation='relu', input_shape=(40, 40, 1)))\n",
    "model.add(layers.MaxPooling2D((2, 2)))\n",
    "model.add(layers.Conv2D(64, (3, 3), activation='relu'))\n",
    "model.add(layers.MaxPooling2D((2, 2)))\n",
    "model.add(layers.Conv2D(64, (3, 3), activation='relu'))"
   ]
  },
  {
   "cell_type": "code",
   "execution_count": 37,
   "metadata": {
    "colab": {
     "base_uri": "https://localhost:8080/",
     "height": 323
    },
    "colab_type": "code",
    "id": "UEVXwzCKgNX_",
    "outputId": "a2771397-2a33-4b21-bff7-ebaabe783d82"
   },
   "outputs": [
    {
     "name": "stdout",
     "output_type": "stream",
     "text": [
      "Model: \"sequential_1\"\n",
      "_________________________________________________________________\n",
      "Layer (type)                 Output Shape              Param #   \n",
      "=================================================================\n",
      "conv2d_3 (Conv2D)            (None, 38, 38, 32)        320       \n",
      "_________________________________________________________________\n",
      "max_pooling2d_2 (MaxPooling2 (None, 19, 19, 32)        0         \n",
      "_________________________________________________________________\n",
      "conv2d_4 (Conv2D)            (None, 17, 17, 64)        18496     \n",
      "_________________________________________________________________\n",
      "max_pooling2d_3 (MaxPooling2 (None, 8, 8, 64)          0         \n",
      "_________________________________________________________________\n",
      "conv2d_5 (Conv2D)            (None, 6, 6, 64)          36928     \n",
      "=================================================================\n",
      "Total params: 55,744\n",
      "Trainable params: 55,744\n",
      "Non-trainable params: 0\n",
      "_________________________________________________________________\n"
     ]
    }
   ],
   "source": [
    "model.summary()"
   ]
  },
  {
   "cell_type": "markdown",
   "metadata": {
    "colab_type": "text",
    "id": "yXMFBtYMyqHj"
   },
   "source": [
    "To complete our model, we will feed the last output tensor from the convolutional base (of shape (3, 3, 64)) into one or more Dense layers to perform classification. Dense layers take vectors as input (which are 1D), while the current output is a 3D tensor. First, we will flatten (or unroll) the 3D output to 1D, then add one or more Dense layers on top. Our Data has 4 output classes, so we use a final Dense layer with 4 outputs and a softmax activation.\n",
    "\n"
   ]
  },
  {
   "cell_type": "code",
   "execution_count": 0,
   "metadata": {
    "colab": {},
    "colab_type": "code",
    "id": "8h50OxZTgQy3"
   },
   "outputs": [],
   "source": [
    "model.add(layers.Flatten())\n",
    "model.add(layers.Dense(64, activation='relu'))\n",
    "model.add(layers.Dense(4, activation='softmax'))"
   ]
  },
  {
   "cell_type": "code",
   "execution_count": 39,
   "metadata": {
    "colab": {
     "base_uri": "https://localhost:8080/",
     "height": 425
    },
    "colab_type": "code",
    "id": "tydx5Rf9gthv",
    "outputId": "62124bcc-5bcb-4d5a-869d-f489049a0ebd"
   },
   "outputs": [
    {
     "name": "stdout",
     "output_type": "stream",
     "text": [
      "Model: \"sequential_1\"\n",
      "_________________________________________________________________\n",
      "Layer (type)                 Output Shape              Param #   \n",
      "=================================================================\n",
      "conv2d_3 (Conv2D)            (None, 38, 38, 32)        320       \n",
      "_________________________________________________________________\n",
      "max_pooling2d_2 (MaxPooling2 (None, 19, 19, 32)        0         \n",
      "_________________________________________________________________\n",
      "conv2d_4 (Conv2D)            (None, 17, 17, 64)        18496     \n",
      "_________________________________________________________________\n",
      "max_pooling2d_3 (MaxPooling2 (None, 8, 8, 64)          0         \n",
      "_________________________________________________________________\n",
      "conv2d_5 (Conv2D)            (None, 6, 6, 64)          36928     \n",
      "_________________________________________________________________\n",
      "flatten_1 (Flatten)          (None, 2304)              0         \n",
      "_________________________________________________________________\n",
      "dense_2 (Dense)              (None, 64)                147520    \n",
      "_________________________________________________________________\n",
      "dense_3 (Dense)              (None, 4)                 260       \n",
      "=================================================================\n",
      "Total params: 203,524\n",
      "Trainable params: 203,524\n",
      "Non-trainable params: 0\n",
      "_________________________________________________________________\n"
     ]
    }
   ],
   "source": [
    "model.summary()"
   ]
  },
  {
   "cell_type": "code",
   "execution_count": 40,
   "metadata": {
    "colab": {
     "base_uri": "https://localhost:8080/",
     "height": 391
    },
    "colab_type": "code",
    "id": "XgYnVkR_gwTi",
    "outputId": "eacf455e-aed4-4371-a701-ce7d2401433d"
   },
   "outputs": [
    {
     "name": "stdout",
     "output_type": "stream",
     "text": [
      "Train on 330 samples\n",
      "Epoch 1/10\n",
      "330/330 [==============================] - 0s 616us/sample - loss: 1.2072 - accuracy: 0.4606\n",
      "Epoch 2/10\n",
      "330/330 [==============================] - 0s 154us/sample - loss: 0.6778 - accuracy: 0.7515\n",
      "Epoch 3/10\n",
      "330/330 [==============================] - 0s 174us/sample - loss: 0.6133 - accuracy: 0.8030\n",
      "Epoch 4/10\n",
      "330/330 [==============================] - 0s 161us/sample - loss: 0.4086 - accuracy: 0.8636\n",
      "Epoch 5/10\n",
      "330/330 [==============================] - 0s 155us/sample - loss: 0.2679 - accuracy: 0.9000\n",
      "Epoch 6/10\n",
      "330/330 [==============================] - 0s 144us/sample - loss: 0.1963 - accuracy: 0.9333\n",
      "Epoch 7/10\n",
      "330/330 [==============================] - 0s 143us/sample - loss: 0.1550 - accuracy: 0.9273\n",
      "Epoch 8/10\n",
      "330/330 [==============================] - 0s 142us/sample - loss: 0.0969 - accuracy: 0.9606\n",
      "Epoch 9/10\n",
      "330/330 [==============================] - 0s 142us/sample - loss: 0.0975 - accuracy: 0.9697\n",
      "Epoch 10/10\n",
      "330/330 [==============================] - 0s 141us/sample - loss: 0.0800 - accuracy: 0.9697\n"
     ]
    },
    {
     "data": {
      "text/plain": [
       "<tensorflow.python.keras.callbacks.History at 0x7fe6ad2274e0>"
      ]
     },
     "execution_count": 40,
     "metadata": {
      "tags": []
     },
     "output_type": "execute_result"
    }
   ],
   "source": [
    "# Compiling and training the model\n",
    "model.compile(optimizer='adam',\n",
    "              loss='sparse_categorical_crossentropy',\n",
    "              metrics=['accuracy'])\n",
    "\n",
    "model.fit(X_train, y_train, epochs=10)"
   ]
  },
  {
   "cell_type": "code",
   "execution_count": 41,
   "metadata": {
    "colab": {
     "base_uri": "https://localhost:8080/",
     "height": 34
    },
    "colab_type": "code",
    "id": "eWbjNS_ThIlq",
    "outputId": "3c5b793e-fce8-47dd-afe6-f6a2a4a5bce4"
   },
   "outputs": [
    {
     "name": "stdout",
     "output_type": "stream",
     "text": [
      "110/110 [==============================] - 0s 562us/sample - loss: 0.1396 - accuracy: 0.9273\n"
     ]
    }
   ],
   "source": [
    "# Testing the accuracy of the model\n",
    "test_loss, test_acc = model.evaluate(X_test, y_test)"
   ]
  },
  {
   "cell_type": "code",
   "execution_count": 48,
   "metadata": {
    "colab": {
     "base_uri": "https://localhost:8080/",
     "height": 34
    },
    "colab_type": "code",
    "id": "THw8sJT6iY5F",
    "outputId": "c0630ff3-3dcd-401a-cd5b-04ef6c4df538"
   },
   "outputs": [
    {
     "data": {
      "text/plain": [
       "0.92727274"
      ]
     },
     "execution_count": 48,
     "metadata": {
      "tags": []
     },
     "output_type": "execute_result"
    }
   ],
   "source": [
    "test_acc"
   ]
  },
  {
   "cell_type": "markdown",
   "metadata": {
    "colab_type": "text",
    "id": "LfPGKA7nzKOu"
   },
   "source": [
    "## Conclusion\n",
    "\n",
    "CNN classified the images with 92.72% accuracy"
   ]
  },
  {
   "cell_type": "code",
   "execution_count": 0,
   "metadata": {
    "colab": {},
    "colab_type": "code",
    "id": "i9HYHmi4zDXC"
   },
   "outputs": [],
   "source": [
    "# Creating a dataframe of the\n",
    "df = pd.DataFrame(categories)"
   ]
  },
  {
   "cell_type": "code",
   "execution_count": 0,
   "metadata": {
    "colab": {},
    "colab_type": "code",
    "id": "ILRdvzSy0LZU"
   },
   "outputs": [],
   "source": [
    "# Transposing\n",
    "df = df.set_index(0).T"
   ]
  },
  {
   "cell_type": "code",
   "execution_count": 0,
   "metadata": {
    "colab": {},
    "colab_type": "code",
    "id": "rV2SQQ-G1cDu"
   },
   "outputs": [],
   "source": [
    "# Saving to a csv file\n",
    "df.to_csv('dataset.csv', index=False)"
   ]
  },
  {
   "cell_type": "code",
   "execution_count": 0,
   "metadata": {
    "colab": {},
    "colab_type": "code",
    "id": "vTEc4dPe3XHm"
   },
   "outputs": [],
   "source": [
    "testing_images = os.listdir('/content/drive/My Drive/Image_2/Input/Dataset/test/')"
   ]
  },
  {
   "cell_type": "code",
   "execution_count": 73,
   "metadata": {
    "colab": {
     "base_uri": "https://localhost:8080/",
     "height": 34
    },
    "colab_type": "code",
    "id": "xkkQQ_EB5v5O",
    "outputId": "36bb2110-f068-405c-cef3-fb41f684fd0c"
   },
   "outputs": [
    {
     "name": "stdout",
     "output_type": "stream",
     "text": [
      "Image not found\n"
     ]
    }
   ],
   "source": [
    "test_set = []\n",
    "test_dirname = '/content/drive/My Drive/Image_2/Input/Dataset/test/'\n",
    "for e in testing_images:\n",
    "  try:\n",
    "      img = mpimg.imread(test_dirname+e)\n",
    "      newimg = []\n",
    "      for f in range(0, 800, 20):\n",
    "        xx = []\n",
    "        for g in range(0, 800, 20):\n",
    "          xx.append([img[:, :, 0][f][g]])\n",
    "        newimg.append(xx)\n",
    "      test_set.append(newimg)\n",
    "  except OSError:\n",
    "      print(\"Image not found\")"
   ]
  },
  {
   "cell_type": "code",
   "execution_count": 0,
   "metadata": {
    "colab": {},
    "colab_type": "code",
    "id": "PgI5vMvp6d41"
   },
   "outputs": [],
   "source": [
    "# test_set"
   ]
  },
  {
   "cell_type": "code",
   "execution_count": 0,
   "metadata": {
    "colab": {},
    "colab_type": "code",
    "id": "fH3iICSS6zxo"
   },
   "outputs": [],
   "source": [
    "testing_images.remove('.DS_Store')"
   ]
  },
  {
   "cell_type": "code",
   "execution_count": 0,
   "metadata": {
    "colab": {},
    "colab_type": "code",
    "id": "RAjo7kU066Nr"
   },
   "outputs": [],
   "source": [
    "test_set = np.asarray(test_set)"
   ]
  },
  {
   "cell_type": "code",
   "execution_count": 0,
   "metadata": {
    "colab": {},
    "colab_type": "code",
    "id": "j8UJe_mx7RVn"
   },
   "outputs": [],
   "source": [
    "test_result = model.predict(test_set)"
   ]
  },
  {
   "cell_type": "code",
   "execution_count": 100,
   "metadata": {
    "colab": {
     "base_uri": "https://localhost:8080/",
     "height": 34
    },
    "colab_type": "code",
    "id": "MK5SPVj87XI5",
    "outputId": "0e1045a2-7bf4-4012-83bd-9228ef7cc138"
   },
   "outputs": [
    {
     "data": {
      "text/plain": [
       "(30, 4)"
      ]
     },
     "execution_count": 100,
     "metadata": {
      "tags": []
     },
     "output_type": "execute_result"
    }
   ],
   "source": [
    "test_result.shape"
   ]
  },
  {
   "cell_type": "code",
   "execution_count": 0,
   "metadata": {
    "colab": {},
    "colab_type": "code",
    "id": "AKtWSGxv8M2o"
   },
   "outputs": [],
   "source": [
    "results = []\n",
    "for i in test_result:\n",
    "  results.append(list(i).index(max(i)))"
   ]
  },
  {
   "cell_type": "code",
   "execution_count": 102,
   "metadata": {
    "colab": {
     "base_uri": "https://localhost:8080/",
     "height": 527
    },
    "colab_type": "code",
    "id": "UGMfm4ct8RK5",
    "outputId": "e3fe6ed4-29f8-44eb-a485-9a73dbdd07d7"
   },
   "outputs": [
    {
     "data": {
      "text/plain": [
       "[1,\n",
       " 2,\n",
       " 0,\n",
       " 0,\n",
       " 2,\n",
       " 1,\n",
       " 0,\n",
       " 3,\n",
       " 3,\n",
       " 2,\n",
       " 3,\n",
       " 1,\n",
       " 1,\n",
       " 2,\n",
       " 0,\n",
       " 1,\n",
       " 0,\n",
       " 2,\n",
       " 2,\n",
       " 2,\n",
       " 2,\n",
       " 2,\n",
       " 1,\n",
       " 3,\n",
       " 1,\n",
       " 1,\n",
       " 2,\n",
       " 1,\n",
       " 2,\n",
       " 3]"
      ]
     },
     "execution_count": 102,
     "metadata": {
      "tags": []
     },
     "output_type": "execute_result"
    }
   ],
   "source": [
    "results"
   ]
  },
  {
   "cell_type": "code",
   "execution_count": 0,
   "metadata": {
    "colab": {},
    "colab_type": "code",
    "id": "PcmCm4YO844J"
   },
   "outputs": [],
   "source": [
    "to_output = [testing_images, results]"
   ]
  },
  {
   "cell_type": "code",
   "execution_count": 0,
   "metadata": {
    "colab": {},
    "colab_type": "code",
    "id": "dw0GJAXH9D3J"
   },
   "outputs": [],
   "source": [
    "df1 = pd.DataFrame(to_output)"
   ]
  },
  {
   "cell_type": "code",
   "execution_count": 105,
   "metadata": {
    "colab": {
     "base_uri": "https://localhost:8080/",
     "height": 148
    },
    "colab_type": "code",
    "id": "zplWyyUb9K1d",
    "outputId": "563bd1a0-a069-4a51-957e-4796e2ffa961"
   },
   "outputs": [
    {
     "data": {
      "text/html": [
       "<div>\n",
       "<style scoped>\n",
       "    .dataframe tbody tr th:only-of-type {\n",
       "        vertical-align: middle;\n",
       "    }\n",
       "\n",
       "    .dataframe tbody tr th {\n",
       "        vertical-align: top;\n",
       "    }\n",
       "\n",
       "    .dataframe thead th {\n",
       "        text-align: right;\n",
       "    }\n",
       "</style>\n",
       "<table border=\"1\" class=\"dataframe\">\n",
       "  <thead>\n",
       "    <tr style=\"text-align: right;\">\n",
       "      <th></th>\n",
       "      <th>0</th>\n",
       "      <th>1</th>\n",
       "      <th>2</th>\n",
       "      <th>3</th>\n",
       "      <th>4</th>\n",
       "      <th>5</th>\n",
       "      <th>6</th>\n",
       "      <th>7</th>\n",
       "      <th>8</th>\n",
       "      <th>9</th>\n",
       "      <th>10</th>\n",
       "      <th>11</th>\n",
       "      <th>12</th>\n",
       "      <th>13</th>\n",
       "      <th>14</th>\n",
       "      <th>15</th>\n",
       "      <th>16</th>\n",
       "      <th>17</th>\n",
       "      <th>18</th>\n",
       "      <th>19</th>\n",
       "      <th>20</th>\n",
       "      <th>21</th>\n",
       "      <th>22</th>\n",
       "      <th>23</th>\n",
       "      <th>24</th>\n",
       "      <th>25</th>\n",
       "      <th>26</th>\n",
       "      <th>27</th>\n",
       "      <th>28</th>\n",
       "      <th>29</th>\n",
       "    </tr>\n",
       "  </thead>\n",
       "  <tbody>\n",
       "    <tr>\n",
       "      <th>0</th>\n",
       "      <td>Test_original_6053.png_62171105-bdaa-4eb5-b5e7...</td>\n",
       "      <td>Test_original_4052.png_31cd9a66-9edc-4445-b4bc...</td>\n",
       "      <td>Test_original_1052.png_22a82512-5b1f-4072-a4af...</td>\n",
       "      <td>1051.png</td>\n",
       "      <td>Test_original_4052.png_a2ba34f8-9e8b-4b2d-ad89...</td>\n",
       "      <td>Test_original_6052.png_9950e35a-38c7-4388-b391...</td>\n",
       "      <td>1052.png</td>\n",
       "      <td>Test_original_C052.png_5c226e55-09ba-4fd0-bf6b...</td>\n",
       "      <td>C052.png</td>\n",
       "      <td>4043.png</td>\n",
       "      <td>C053.png</td>\n",
       "      <td>Test_original_6052.png_25bb57e2-b542-47c3-9abb...</td>\n",
       "      <td>6052.png</td>\n",
       "      <td>4051.png</td>\n",
       "      <td>Test_original_1052.png_b95bc311-bae0-48a7-8b9f...</td>\n",
       "      <td>6053.png</td>\n",
       "      <td>Test_original_1051.png_271f7fb1-f0ab-4ca7-9dae...</td>\n",
       "      <td>4050.png</td>\n",
       "      <td>Test_original_4052.png_209d62b3-92ce-4e4d-8006...</td>\n",
       "      <td>Test_original_4052.png_78b7cca7-2a16-4f3c-829d...</td>\n",
       "      <td>Test_original_4051.png_b90a2ba4-87c6-41e6-ad67...</td>\n",
       "      <td>4052.png</td>\n",
       "      <td>Test_original_6052.png_51c87ecf-ede6-4152-960f...</td>\n",
       "      <td>Test_original_C053.png_84d8e7c9-490f-4579-b9a9...</td>\n",
       "      <td>Test_original_6053.png_c34c8352-0830-4853-81ce...</td>\n",
       "      <td>Test_original_6053.png_16f2063e-9590-4ae5-b7f9...</td>\n",
       "      <td>Test_original_4043.png_fffcbc29-3aff-40c0-bdf9...</td>\n",
       "      <td>Test_original_6053.png_445dbbe1-4b09-4d56-aede...</td>\n",
       "      <td>Test_original_4043.png_615f9058-5c5c-4430-9f11...</td>\n",
       "      <td>Test_original_C053.png_e7d20702-793e-4207-b174...</td>\n",
       "    </tr>\n",
       "    <tr>\n",
       "      <th>1</th>\n",
       "      <td>1</td>\n",
       "      <td>2</td>\n",
       "      <td>0</td>\n",
       "      <td>0</td>\n",
       "      <td>2</td>\n",
       "      <td>1</td>\n",
       "      <td>0</td>\n",
       "      <td>3</td>\n",
       "      <td>3</td>\n",
       "      <td>2</td>\n",
       "      <td>3</td>\n",
       "      <td>1</td>\n",
       "      <td>1</td>\n",
       "      <td>2</td>\n",
       "      <td>0</td>\n",
       "      <td>1</td>\n",
       "      <td>0</td>\n",
       "      <td>2</td>\n",
       "      <td>2</td>\n",
       "      <td>2</td>\n",
       "      <td>2</td>\n",
       "      <td>2</td>\n",
       "      <td>1</td>\n",
       "      <td>3</td>\n",
       "      <td>1</td>\n",
       "      <td>1</td>\n",
       "      <td>2</td>\n",
       "      <td>1</td>\n",
       "      <td>2</td>\n",
       "      <td>3</td>\n",
       "    </tr>\n",
       "  </tbody>\n",
       "</table>\n",
       "</div>"
      ],
      "text/plain": [
       "                                                  0   ...                                                 29\n",
       "0  Test_original_6053.png_62171105-bdaa-4eb5-b5e7...  ...  Test_original_C053.png_e7d20702-793e-4207-b174...\n",
       "1                                                  1  ...                                                  3\n",
       "\n",
       "[2 rows x 30 columns]"
      ]
     },
     "execution_count": 105,
     "metadata": {
      "tags": []
     },
     "output_type": "execute_result"
    }
   ],
   "source": [
    "df1"
   ]
  },
  {
   "cell_type": "code",
   "execution_count": 0,
   "metadata": {
    "colab": {},
    "colab_type": "code",
    "id": "imL4eyiP9Lf4"
   },
   "outputs": [],
   "source": [
    "# Transposing\n",
    "df1 = df1.set_index(0).T"
   ]
  },
  {
   "cell_type": "code",
   "execution_count": 0,
   "metadata": {
    "colab": {},
    "colab_type": "code",
    "id": "UwiB449y_6EL"
   },
   "outputs": [],
   "source": [
    "df1.to_csv('results1.csv', index=False)"
   ]
  },
  {
   "cell_type": "code",
   "execution_count": 111,
   "metadata": {
    "colab": {
     "base_uri": "https://localhost:8080/",
     "height": 979
    },
    "colab_type": "code",
    "id": "OAtrCC5jAUc_",
    "outputId": "5da3d1e8-48f9-4f0c-f8bc-ee218a2cc378"
   },
   "outputs": [
    {
     "data": {
      "text/html": [
       "<div>\n",
       "<style scoped>\n",
       "    .dataframe tbody tr th:only-of-type {\n",
       "        vertical-align: middle;\n",
       "    }\n",
       "\n",
       "    .dataframe tbody tr th {\n",
       "        vertical-align: top;\n",
       "    }\n",
       "\n",
       "    .dataframe thead th {\n",
       "        text-align: right;\n",
       "    }\n",
       "</style>\n",
       "<table border=\"1\" class=\"dataframe\">\n",
       "  <thead>\n",
       "    <tr style=\"text-align: right;\">\n",
       "      <th></th>\n",
       "      <th>0</th>\n",
       "      <th>1</th>\n",
       "    </tr>\n",
       "  </thead>\n",
       "  <tbody>\n",
       "    <tr>\n",
       "      <th>0</th>\n",
       "      <td>Test_original_6053.png_62171105-bdaa-4eb5-b5e7...</td>\n",
       "      <td>1</td>\n",
       "    </tr>\n",
       "    <tr>\n",
       "      <th>1</th>\n",
       "      <td>Test_original_4052.png_31cd9a66-9edc-4445-b4bc...</td>\n",
       "      <td>2</td>\n",
       "    </tr>\n",
       "    <tr>\n",
       "      <th>2</th>\n",
       "      <td>Test_original_1052.png_22a82512-5b1f-4072-a4af...</td>\n",
       "      <td>0</td>\n",
       "    </tr>\n",
       "    <tr>\n",
       "      <th>3</th>\n",
       "      <td>1051.png</td>\n",
       "      <td>0</td>\n",
       "    </tr>\n",
       "    <tr>\n",
       "      <th>4</th>\n",
       "      <td>Test_original_4052.png_a2ba34f8-9e8b-4b2d-ad89...</td>\n",
       "      <td>2</td>\n",
       "    </tr>\n",
       "    <tr>\n",
       "      <th>5</th>\n",
       "      <td>Test_original_6052.png_9950e35a-38c7-4388-b391...</td>\n",
       "      <td>1</td>\n",
       "    </tr>\n",
       "    <tr>\n",
       "      <th>6</th>\n",
       "      <td>1052.png</td>\n",
       "      <td>0</td>\n",
       "    </tr>\n",
       "    <tr>\n",
       "      <th>7</th>\n",
       "      <td>Test_original_C052.png_5c226e55-09ba-4fd0-bf6b...</td>\n",
       "      <td>3</td>\n",
       "    </tr>\n",
       "    <tr>\n",
       "      <th>8</th>\n",
       "      <td>C052.png</td>\n",
       "      <td>3</td>\n",
       "    </tr>\n",
       "    <tr>\n",
       "      <th>9</th>\n",
       "      <td>4043.png</td>\n",
       "      <td>2</td>\n",
       "    </tr>\n",
       "    <tr>\n",
       "      <th>10</th>\n",
       "      <td>C053.png</td>\n",
       "      <td>3</td>\n",
       "    </tr>\n",
       "    <tr>\n",
       "      <th>11</th>\n",
       "      <td>Test_original_6052.png_25bb57e2-b542-47c3-9abb...</td>\n",
       "      <td>1</td>\n",
       "    </tr>\n",
       "    <tr>\n",
       "      <th>12</th>\n",
       "      <td>6052.png</td>\n",
       "      <td>1</td>\n",
       "    </tr>\n",
       "    <tr>\n",
       "      <th>13</th>\n",
       "      <td>4051.png</td>\n",
       "      <td>2</td>\n",
       "    </tr>\n",
       "    <tr>\n",
       "      <th>14</th>\n",
       "      <td>Test_original_1052.png_b95bc311-bae0-48a7-8b9f...</td>\n",
       "      <td>0</td>\n",
       "    </tr>\n",
       "    <tr>\n",
       "      <th>15</th>\n",
       "      <td>6053.png</td>\n",
       "      <td>1</td>\n",
       "    </tr>\n",
       "    <tr>\n",
       "      <th>16</th>\n",
       "      <td>Test_original_1051.png_271f7fb1-f0ab-4ca7-9dae...</td>\n",
       "      <td>0</td>\n",
       "    </tr>\n",
       "    <tr>\n",
       "      <th>17</th>\n",
       "      <td>4050.png</td>\n",
       "      <td>2</td>\n",
       "    </tr>\n",
       "    <tr>\n",
       "      <th>18</th>\n",
       "      <td>Test_original_4052.png_209d62b3-92ce-4e4d-8006...</td>\n",
       "      <td>2</td>\n",
       "    </tr>\n",
       "    <tr>\n",
       "      <th>19</th>\n",
       "      <td>Test_original_4052.png_78b7cca7-2a16-4f3c-829d...</td>\n",
       "      <td>2</td>\n",
       "    </tr>\n",
       "    <tr>\n",
       "      <th>20</th>\n",
       "      <td>Test_original_4051.png_b90a2ba4-87c6-41e6-ad67...</td>\n",
       "      <td>2</td>\n",
       "    </tr>\n",
       "    <tr>\n",
       "      <th>21</th>\n",
       "      <td>4052.png</td>\n",
       "      <td>2</td>\n",
       "    </tr>\n",
       "    <tr>\n",
       "      <th>22</th>\n",
       "      <td>Test_original_6052.png_51c87ecf-ede6-4152-960f...</td>\n",
       "      <td>1</td>\n",
       "    </tr>\n",
       "    <tr>\n",
       "      <th>23</th>\n",
       "      <td>Test_original_C053.png_84d8e7c9-490f-4579-b9a9...</td>\n",
       "      <td>3</td>\n",
       "    </tr>\n",
       "    <tr>\n",
       "      <th>24</th>\n",
       "      <td>Test_original_6053.png_c34c8352-0830-4853-81ce...</td>\n",
       "      <td>1</td>\n",
       "    </tr>\n",
       "    <tr>\n",
       "      <th>25</th>\n",
       "      <td>Test_original_6053.png_16f2063e-9590-4ae5-b7f9...</td>\n",
       "      <td>1</td>\n",
       "    </tr>\n",
       "    <tr>\n",
       "      <th>26</th>\n",
       "      <td>Test_original_4043.png_fffcbc29-3aff-40c0-bdf9...</td>\n",
       "      <td>2</td>\n",
       "    </tr>\n",
       "    <tr>\n",
       "      <th>27</th>\n",
       "      <td>Test_original_6053.png_445dbbe1-4b09-4d56-aede...</td>\n",
       "      <td>1</td>\n",
       "    </tr>\n",
       "    <tr>\n",
       "      <th>28</th>\n",
       "      <td>Test_original_4043.png_615f9058-5c5c-4430-9f11...</td>\n",
       "      <td>2</td>\n",
       "    </tr>\n",
       "    <tr>\n",
       "      <th>29</th>\n",
       "      <td>Test_original_C053.png_e7d20702-793e-4207-b174...</td>\n",
       "      <td>3</td>\n",
       "    </tr>\n",
       "  </tbody>\n",
       "</table>\n",
       "</div>"
      ],
      "text/plain": [
       "                                                    0  1\n",
       "0   Test_original_6053.png_62171105-bdaa-4eb5-b5e7...  1\n",
       "1   Test_original_4052.png_31cd9a66-9edc-4445-b4bc...  2\n",
       "2   Test_original_1052.png_22a82512-5b1f-4072-a4af...  0\n",
       "3                                            1051.png  0\n",
       "4   Test_original_4052.png_a2ba34f8-9e8b-4b2d-ad89...  2\n",
       "5   Test_original_6052.png_9950e35a-38c7-4388-b391...  1\n",
       "6                                            1052.png  0\n",
       "7   Test_original_C052.png_5c226e55-09ba-4fd0-bf6b...  3\n",
       "8                                            C052.png  3\n",
       "9                                            4043.png  2\n",
       "10                                           C053.png  3\n",
       "11  Test_original_6052.png_25bb57e2-b542-47c3-9abb...  1\n",
       "12                                           6052.png  1\n",
       "13                                           4051.png  2\n",
       "14  Test_original_1052.png_b95bc311-bae0-48a7-8b9f...  0\n",
       "15                                           6053.png  1\n",
       "16  Test_original_1051.png_271f7fb1-f0ab-4ca7-9dae...  0\n",
       "17                                           4050.png  2\n",
       "18  Test_original_4052.png_209d62b3-92ce-4e4d-8006...  2\n",
       "19  Test_original_4052.png_78b7cca7-2a16-4f3c-829d...  2\n",
       "20  Test_original_4051.png_b90a2ba4-87c6-41e6-ad67...  2\n",
       "21                                           4052.png  2\n",
       "22  Test_original_6052.png_51c87ecf-ede6-4152-960f...  1\n",
       "23  Test_original_C053.png_84d8e7c9-490f-4579-b9a9...  3\n",
       "24  Test_original_6053.png_c34c8352-0830-4853-81ce...  1\n",
       "25  Test_original_6053.png_16f2063e-9590-4ae5-b7f9...  1\n",
       "26  Test_original_4043.png_fffcbc29-3aff-40c0-bdf9...  2\n",
       "27  Test_original_6053.png_445dbbe1-4b09-4d56-aede...  1\n",
       "28  Test_original_4043.png_615f9058-5c5c-4430-9f11...  2\n",
       "29  Test_original_C053.png_e7d20702-793e-4207-b174...  3"
      ]
     },
     "execution_count": 111,
     "metadata": {
      "tags": []
     },
     "output_type": "execute_result"
    }
   ],
   "source": [
    "pd.DataFrame(np.asarray(to_output).T)"
   ]
  },
  {
   "cell_type": "code",
   "execution_count": 118,
   "metadata": {
    "colab": {
     "base_uri": "https://localhost:8080/",
     "height": 1000
    },
    "colab_type": "code",
    "id": "v_WFLu5EBDOi",
    "outputId": "4a1faaf6-4836-4888-ce22-4ac280230d7b"
   },
   "outputs": [
    {
     "data": {
      "image/png": "[encoded data removed]",
      "text/plain": [
       "<Figure size 432x288 with 1 Axes>"
      ]
     },
     "metadata": {
      "tags": []
     },
     "output_type": "display_data"
    },
    {
     "data": {
      "image/png": "[encoded data removed]",
      "text/plain": [
       "<Figure size 432x288 with 1 Axes>"
      ]
     },
     "metadata": {
      "tags": []
     },
     "output_type": "display_data"
    },
    {
     "data": {
      "image/png": "[encoded data removed]",
      "text/plain": [
       "<Figure size 432x288 with 1 Axes>"
      ]
     },
     "metadata": {
      "tags": []
     },
     "output_type": "display_data"
    },
    {
     "data": {
      "image/png": "[encoded data removed]",
      "text/plain": [
       "<Figure size 432x288 with 1 Axes>"
      ]
     },
     "metadata": {
      "tags": []
     },
     "output_type": "display_data"
    },
    {
     "data": {
      "image/png": "[encoded data removed]",
      "text/plain": [
       "<Figure size 432x288 with 1 Axes>"
      ]
     },
     "metadata": {
      "tags": []
     },
     "output_type": "display_data"
    },
    {
     "data": {
      "image/png": "[encoded data removed]",
      "text/plain": [
       "<Figure size 432x288 with 1 Axes>"
      ]
     },
     "metadata": {
      "tags": []
     },
     "output_type": "display_data"
    },
    {
     "data": {
      "image/png": "[encoded data removed]",
      "text/plain": [
       "<Figure size 432x288 with 1 Axes>"
      ]
     },
     "metadata": {
      "tags": []
     },
     "output_type": "display_data"
    },
    {
     "data": {
      "image/png": "[encoded data removed]",
      "text/plain": [
       "<Figure size 432x288 with 1 Axes>"
      ]
     },
     "metadata": {
      "tags": []
     },
     "output_type": "display_data"
    },
    {
     "data": {
      "image/png": "[encoded data removed]",
      "text/plain": [
       "<Figure size 432x288 with 1 Axes>"
      ]
     },
     "metadata": {
      "tags": []
     },
     "output_type": "display_data"
    },
    {
     "data": {
      "image/png": "[encoded data removed]",
      "text/plain": [
       "<Figure size 432x288 with 1 Axes>"
      ]
     },
     "metadata": {
      "tags": []
     },
     "output_type": "display_data"
    },
    {
     "data": {
      "image/png": "[encoded data removed]",
      "text/plain": [
       "<Figure size 432x288 with 1 Axes>"
      ]
     },
     "metadata": {
      "tags": []
     },
     "output_type": "display_data"
    },
    {
     "data": {
      "image/png": "[encoded data removed]",
      "text/plain": [
       "<Figure size 432x288 with 1 Axes>"
      ]
     },
     "metadata": {
      "tags": []
     },
     "output_type": "display_data"
    },
    {
     "data": {
      "image/png": "[encoded data removed]",
      "text/plain": [
       "<Figure size 432x288 with 1 Axes>"
      ]
     },
     "metadata": {
      "tags": []
     },
     "output_type": "display_data"
    },
    {
     "data": {
      "image/png": "[encoded data removed]",
      "text/plain": [
       "<Figure size 432x288 with 1 Axes>"
      ]
     },
     "metadata": {
      "tags": []
     },
     "output_type": "display_data"
    },
    {
     "data": {
      "image/png": "[encoded data removed]",
      "text/plain": [
       "<Figure size 432x288 with 1 Axes>"
      ]
     },
     "metadata": {
      "tags": []
     },
     "output_type": "display_data"
    },
    {
     "data": {
      "image/png": "[encoded data removed]",
      "text/plain": [
       "<Figure size 432x288 with 1 Axes>"
      ]
     },
     "metadata": {
      "tags": []
     },
     "output_type": "display_data"
    },
    {
     "data": {
      "image/png": "[encoded data removed]",
      "text/plain": [
       "<Figure size 432x288 with 1 Axes>"
      ]
     },
     "metadata": {
      "tags": []
     },
     "output_type": "display_data"
    },
    {
     "data": {
      "image/png": "[encoded data removed]",
      "text/plain": [
       "<Figure size 432x288 with 1 Axes>"
      ]
     },
     "metadata": {
      "tags": []
     },
     "output_type": "display_data"
    },
    {
     "data": {
      "image/png": "[encoded data removed]",
      "text/plain": [
       "<Figure size 432x288 with 1 Axes>"
      ]
     },
     "metadata": {
      "tags": []
     },
     "output_type": "display_data"
    },
    {
     "data": {
      "image/png": "[encoded data removed]",
      "text/plain": [
       "<Figure size 432x288 with 1 Axes>"
      ]
     },
     "metadata": {
      "tags": []
     },
     "output_type": "display_data"
    },
    {
     "data": {
      "image/png": "[encoded data removed]",
      "text/plain": [
       "<Figure size 432x288 with 1 Axes>"
      ]
     },
     "metadata": {
      "tags": []
     },
     "output_type": "display_data"
    },
    {
     "data": {
      "image/png": "[encoded data removed]",
      "text/plain": [
       "<Figure size 432x288 with 1 Axes>"
      ]
     },
     "metadata": {
      "tags": []
     },
     "output_type": "display_data"
    },
    {
     "data": {
      "image/png": "[encoded data removed]",
      "text/plain": [
       "<Figure size 432x288 with 1 Axes>"
      ]
     },
     "metadata": {
      "tags": []
     },
     "output_type": "display_data"
    },
    {
     "data": {
      "image/png": "[encoded data removed]",
      "text/plain": [
       "<Figure size 432x288 with 1 Axes>"
      ]
     },
     "metadata": {
      "tags": []
     },
     "output_type": "display_data"
    },
    {
     "data": {
      "image/png": "[encoded data removed]",
      "text/plain": [
       "<Figure size 432x288 with 1 Axes>"
      ]
     },
     "metadata": {
      "tags": []
     },
     "output_type": "display_data"
    },
    {
     "data": {
      "image/png": "[encoded data removed]",
      "text/plain": [
       "<Figure size 432x288 with 1 Axes>"
      ]
     },
     "metadata": {
      "tags": []
     },
     "output_type": "display_data"
    },
    {
     "data": {
      "image/png": "[encoded data removed]",
      "text/plain": [
       "<Figure size 432x288 with 1 Axes>"
      ]
     },
     "metadata": {
      "tags": []
     },
     "output_type": "display_data"
    },
    {
     "data": {
      "image/png": "[encoded data removed]",
      "text/plain": [
       "<Figure size 432x288 with 1 Axes>"
      ]
     },
     "metadata": {
      "tags": []
     },
     "output_type": "display_data"
    },
    {
     "data": {
      "image/png": "[encoded data removed]",
      "text/plain": [
       "<Figure size 432x288 with 1 Axes>"
      ]
     },
     "metadata": {
      "tags": []
     },
     "output_type": "display_data"
    },
    {
     "data": {
      "image/png": "[encoded data removed]",
      "text/plain": [
       "<Figure size 432x288 with 1 Axes>"
      ]
     },
     "metadata": {
      "tags": []
     },
     "output_type": "display_data"
    }
   ],
   "source": [
    "for i in range(len(test_set)):\n",
    "  plt.imshow(test_set[i].reshape(40, 40))\n",
    "  plt.title(results[i])\n",
    "  plt.show()"
   ]
  },
  {
   "cell_type": "code",
   "execution_count": 0,
   "metadata": {
    "colab": {},
    "colab_type": "code",
    "id": "jGvi7ZtjBiLS"
   },
   "outputs": [],
   "source": []
  },
  {
   "cell_type": "markdown",
   "metadata": {
    "colab_type": "text",
    "id": "sp91kwFaCoaZ"
   },
   "source": [
    "## Conclusion\n",
    "\n",
    "As can be seen above our model sucessfully classified the given category of images."
   ]
  },
  {
   "cell_type": "code",
   "execution_count": 0,
   "metadata": {
    "colab": {},
    "colab_type": "code",
    "id": "8AsaVmhyC9EE"
   },
   "outputs": [],
   "source": []
  }
 ],
 "metadata": {
  "accelerator": "GPU",
  "colab": {
   "collapsed_sections": [],
   "name": "image_2.ipynb",
   "provenance": [],
   "version": "0.3.2"
  },
  "kernelspec": {
   "display_name": "Python 3",
   "language": "python",
   "name": "python3"
  },
  "language_info": {
   "codemirror_mode": {
    "name": "ipython",
    "version": 3
   },
   "file_extension": ".py",
   "mimetype": "text/x-python",
   "name": "python",
   "nbconvert_exporter": "python",
   "pygments_lexer": "ipython3",
   "version": "3.7.1"
  }
 },
 "nbformat": 4,
 "nbformat_minor": 1
}
